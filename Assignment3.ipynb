{
  "nbformat": 4,
  "nbformat_minor": 0,
  "metadata": {
    "colab": {
      "provenance": [],
      "authorship_tag": "ABX9TyP9t/CffUWXv2JP6vEcmJ1v",
      "include_colab_link": true
    },
    "kernelspec": {
      "name": "python3",
      "display_name": "Python 3"
    },
    "language_info": {
      "name": "python"
    }
  },
  "cells": [
    {
      "cell_type": "markdown",
      "metadata": {
        "id": "view-in-github",
        "colab_type": "text"
      },
      "source": [
        "<a href=\"https://colab.research.google.com/github/sobiamehak/Assigment3/blob/main/Assignment3.ipynb\" target=\"_parent\"><img src=\"https://colab.research.google.com/assets/colab-badge.svg\" alt=\"Open In Colab\"/></a>"
      ]
    },
    {
      "cell_type": "code",
      "execution_count": null,
      "metadata": {
        "colab": {
          "base_uri": "https://localhost:8080/"
        },
        "id": "QDtRI14aDpkV",
        "outputId": "3be3c823-b516-4043-8e68-836670781e2b"
      },
      "outputs": [
        {
          "output_type": "stream",
          "name": "stdout",
          "text": [
            "[1, 2, 3, 4, 5, 6]\n",
            "[1, 2, 3, 4, 5, 6]\n",
            "['Java', 'C++', 'Python', 'Javascript', 'Ruby']\n",
            "[20, 30, 10, 40]\n",
            "[100, 200, 300]\n"
          ]
        }
      ],
      "source": [
        "# Basic list operations\n",
        "# 1. List banai aur usme ek element (6) add kiya\n",
        "my_list = [1, 2, 3, 4, 5]\n",
        "my_list.append(6)  # List ke end me 6 add hoga\n",
        "print(my_list)  # Output: [1, 2, 3, 4, 5, 6]\n",
        "\n",
        "# 2. Do lists ko merge kiya\n",
        "list1 = [1, 2, 3]\n",
        "list2 = [4, 5, 6]\n",
        "list1.extend(list2)  # list1 me list2 ke elements add kiye\n",
        "print(list1)  # Output: [1, 2, 3, 4, 5, 6]\n",
        "\n",
        "# 3. List me specific position par element insert kiya\n",
        "lan_list = [\"Java\", \"C++\", \"Javascript\", \"Ruby\"]\n",
        "lan_list.insert(2, \"Python\")  # Index 2 par \"Python\" insert hoga\n",
        "print(lan_list)  # Output: ['Java', 'C++', 'Python', 'Javascript', 'Ruby']\n",
        "\n",
        "# 4. List se pehli baar aane wala 10 remove kiya\n",
        "my_num = [10, 20, 30, 10, 40]\n",
        "my_num.remove(10)  # Sirf pehla 10 remove hoga\n",
        "print(my_num)  # Output: [20, 30, 10, 40]\n",
        "\n",
        "# 5. List ke last element ko hata diya =>pop\n",
        "my_num2 = [100, 200, 300, 400]\n",
        "my_num2.pop()  # Last element (400) remove hoga\n",
        "print(my_num2)  # Output: [100, 200, 300]\n"
      ]
    },
    {
      "cell_type": "code",
      "source": [
        "# Intermediate operations\n",
        "# 6. List me kisi number ka count check karna\n",
        "count_num = [5, 10, 5, 20, 5, 30]\n",
        "result = count_num.count(5)  # 5 kitni dafa aya hai count karega\n",
        "print(result)  # Output: 3\n",
        "\n",
        "# 7. List ko sort karna (ascending order)\n",
        "sorting = [9, 1, 8, 3, 5]\n",
        "sorting.sort()  # Choti se bari value tak sort karega\n",
        "print(sorting)  # Output: [1, 3, 5, 8, 9]\n",
        "\n",
        "# 8. List ko reverse order me sort karna (descending)\n",
        "sorting.sort(reverse=True)  # Bari se choti value tak sort karega\n",
        "print(sorting)  # Output: [9, 8, 5, 3, 1]\n",
        "\n",
        "# 9. List ki copy banana aur changes karna\n",
        "orig_list = [1, 2, 3, 4, 5]\n",
        "copy_list = orig_list[:]  # List ki copy banayi (shallow copy)\n",
        "copy_list.append(6)  # Copy wali list me 6 add kiya\n",
        "copy_list[2] = 20  # Copy wali list ka 3rd element (index 2) change kiya\n",
        "print(orig_list)  # Original list unchanged: [1, 2, 3, 4, 5]\n",
        "print(copy_list)  # Copy me changes reflect honge: [1, 2, 20, 4, 5, 6]\n",
        "\n",
        "# 10. List ko completely empty karna\n",
        "blank = [\"hello\", \"world\", \"python\"]\n",
        "blank.clear()  # Saare elements remove kar dega\n",
        "print(blank)  # Output: []\n"
      ],
      "metadata": {
        "colab": {
          "base_uri": "https://localhost:8080/"
        },
        "id": "CGakYN93Lyar",
        "outputId": "33a741e4-bb98-4031-8ebb-532602af71b2"
      },
      "execution_count": 10,
      "outputs": [
        {
          "output_type": "stream",
          "name": "stdout",
          "text": [
            "3\n",
            "[1, 3, 5, 8, 9]\n",
            "[9, 8, 5, 3, 1]\n",
            "[1, 2, 3, 4, 5]\n",
            "[1, 2, 20, 4, 5, 6]\n"
          ]
        }
      ]
    },
    {
      "cell_type": "code",
      "source": [],
      "metadata": {
        "id": "PzGq_Yd7RQx3"
      },
      "execution_count": null,
      "outputs": []
    },
    {
      "cell_type": "code",
      "source": [
        "# Tuple based questions\n",
        "# 11. Tuple me index 2 ka element access karna\n",
        "fruits = (\"apple\", \"mango\", \"strawberry\", \"watermelon\", \"cherry\")\n",
        "print(fruits[2])\n",
        "\n",
        "# 12. Tuple ko list me convert karna aur print karna\n",
        "fruits = [\"apple\", \"mango\", \"strawberry\", \"watermelon\", \"cherry\"]\n",
        "print(fruits)\n",
        "\n",
        "# 13. Tuple ko list me convert karna, ek element remove karna, aur wapas tuple banana\n",
        "tup_list = (10, 20, 30, 40, 50)\n",
        "convert = list(tup_list)  # Tuple ko list me convert kiya\n",
        "convert.remove(30)  # List me se 30 remove kiya\n",
        "print(convert)\n",
        "return_tup = tuple(convert)  # List ko wapas tuple me convert kiya\n",
        "print(return_tup)  # Output: (10, 20, 40, 50)\n",
        "\n",
        "# Tuple modify nahi hoti, lekin concatenate karke modify kiya ja sakta hai\n",
        "missing_dir = (\"A)East\", \"B) West\", \"C)North\")\n",
        "# missing_dir.append(\"D)South\")  # Ye error dega, kyunki tuple immutable hoti hai\n",
        "\n",
        "# Tuple ko modify karne ka tareeqa -> Concatenation\n",
        "complete_dir = missing_dir + (\"D)South\",)  # Naya element add karne ke liye naya tuple banaya\n",
        "print(complete_dir)\n",
        "\n",
        "# 14. Tuple ko unpack karna (alag-alag variables me store karna)\n",
        "unpack_tuples = (100, 200, 300)\n",
        "one_Hundred, two_Hundred, three_Hundred = unpack_tuples  # Tuple unpacking\n",
        "print(one_Hundred)\n",
        "print(two_Hundred)\n",
        "print(three_Hundred)\n",
        "# 15. Tuple me kisi value ka occurrence count karna\n",
        "count_occur = (7, 1, 7, 3, 7, 5)\n",
        "print(count_occur.count(7))  # 7 kitni dafa aya hai count karega -> Output: 3\n"
      ],
      "metadata": {
        "colab": {
          "base_uri": "https://localhost:8080/"
        },
        "id": "m060xy14KxH8",
        "outputId": "a31ca43e-ef8c-4d87-c788-5ae68bbfd157"
      },
      "execution_count": null,
      "outputs": [
        {
          "output_type": "stream",
          "name": "stdout",
          "text": [
            "strawberry\n",
            "['apple', 'mango', 'strawberry', 'watermelon', 'cherry']\n",
            "[10, 20, 40, 50]\n",
            "(10, 20, 40, 50)\n",
            "('A)East', 'B) West', 'C)North', 'South')\n",
            "100\n",
            "200\n",
            "300\n"
          ]
        },
        {
          "output_type": "execute_result",
          "data": {
            "text/plain": [
              "3"
            ]
          },
          "metadata": {},
          "execution_count": 6
        }
      ]
    },
    {
      "cell_type": "code",
      "source": [
        "# Advance problems\n",
        "# 16. Function jo odd numbers ko filter karega\n",
        "def my_func(num: list):\n",
        "    new_num = []  # Nayi list banayi jo sirf odd numbers store karegi\n",
        "\n",
        "    for i in num:  # List ke har element ko check karna\n",
        "        if i % 2 != 0:  # Agar number odd hai\n",
        "            new_num.append(i)  # Odd number new list me add karo\n",
        "            print(i)  # Odd number ko print karo\n",
        "\n",
        "    return new_num  # Odd numbers wali list return karo\n",
        "\n",
        "# Example Usage\n",
        "print(my_func([1, 2, 3, 4, 6, 23, 47]))\n",
        "# Output: 1, 3, 23, 47 (print se), [1, 3, 23, 47] (return value)\n",
        "\n",
        "# 17. Selection Sort Algorithm (Descending Order)\n",
        "def select_descending(arr):\n",
        "    n = len(arr)  # List ki length find karna\n",
        "\n",
        "    for i in range(n):  # Har position ke liye largest element find karna\n",
        "        max_index = i  # Assume kar rahe hain ke i-th position ka element sabse bada hai\n",
        "\n",
        "        # i ke baad wale elements check karenge largest element find karne ke liye\n",
        "        for j in range(i + 1, n):\n",
        "            if arr[j] > arr[max_index]:  # Agar koi bada element milta hai\n",
        "                max_index = j  # Uska index max_index me store kar lo\n",
        "\n",
        "        # Agar max_index change ho gaya hai, to swap karo\n",
        "        arr[i], arr[max_index] = arr[max_index], arr[i]  # Swap operation\n",
        "\n",
        "    return arr  # Sorted list return karo\n",
        "\n",
        "# Example Usage\n",
        "numbers = [7, 4, 5, 1, 3]  # Unsorted list\n",
        "sorted_numbers = select_descending(numbers)  # Sorting function call\n",
        "print(sorted_numbers)  # Output: [7, 5, 4, 3, 1] (Descending Order)\n",
        "\n",
        "# 18 Remove all duplicate elements\n",
        "def remove_duplicate(mon):\n",
        "    unique_list = []  # Empty list to store unique values\n",
        "    for item in mon:\n",
        "        if item not in unique_list:  # Agar pehle se list me nahi hai to add karo\n",
        "            unique_list.append(item)\n",
        "    return unique_list\n",
        "\n",
        "numbers = [ 1,2,3,2,3,4,5,3,6,5]\n",
        "unique_numbers = remove_duplicate(numbers)\n",
        "print(unique_numbers)\n",
        "\n",
        "\n",
        "# 19 tuple in new list remove duplicate ,convert in tuple\n",
        "# Given tuple\n",
        "names_tuple = (\"Alice\", \"Bob\", \"Charlie\", \"Alice\", \"David\")\n",
        "\n",
        "# Convert to list\n",
        "names_list = list(names_tuple)\n",
        "\n",
        "# Remove duplicates by converting to a set, then back to a list\n",
        "unique_names_list = list(set(names_list))\n",
        "\n",
        "# Convert back to tuple\n",
        "unique_names_tuple = tuple(unique_names_list)\n",
        "\n",
        "# Print the result\n",
        "print(unique_names_tuple)\n",
        "\n",
        "#20 Mixed types in seperarte variables\n",
        "#  Given mixed list\n",
        "mixed_list = [1, \"hello\", 3.14, 42, \"Python\", 2.71, \"world\", 100]\n",
        "\n",
        "# Separate integers, strings, and floats\n",
        "integers = [x for x in mixed_list if isinstance(x, int)]\n",
        "strings = [x for x in mixed_list if isinstance(x, str)]\n",
        "floats = [x for x in mixed_list if isinstance(x, float)]\n",
        "\n",
        "# Print results\n",
        "print(\"Integers:\", integers)\n",
        "print(\"Strings:\", strings)\n",
        "print(\"Floats:\", floats)\n",
        "\n",
        "\n",
        ""
      ],
      "metadata": {
        "colab": {
          "base_uri": "https://localhost:8080/"
        },
        "id": "8Ap0itcG68E_",
        "outputId": "aca48a9b-0fe6-456b-8a29-90c665a97205"
      },
      "execution_count": 11,
      "outputs": [
        {
          "output_type": "stream",
          "name": "stdout",
          "text": [
            "1\n",
            "3\n",
            "23\n",
            "47\n",
            "[1, 3, 23, 47]\n",
            "[7, 5, 4, 3, 1]\n",
            "['January', 'May', 'February', 'March', 'April', 'June', 'July', 'August', 'September', 'October', 'November', 'December']\n",
            "('Charlie', 'Alice', 'David', 'Bob')\n",
            "Integers: [1, 42, 100]\n",
            "Strings: ['hello', 'Python', 'world']\n",
            "Floats: [3.14, 2.71]\n"
          ]
        }
      ]
    }
  ]
}
